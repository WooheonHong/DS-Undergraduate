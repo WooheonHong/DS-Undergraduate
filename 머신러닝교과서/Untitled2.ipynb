{
 "cells": [
  {
   "cell_type": "markdown",
   "metadata": {},
   "source": [
    "# 다층 인공 신경망을 밑바닥부터 구현"
   ]
  },
  {
   "cell_type": "code",
   "execution_count": 4,
   "metadata": {},
   "outputs": [],
   "source": [
    "import os\n",
    "import struct\n",
    "import numpy as np\n",
    "\n",
    "def load_mnist(path, kind='train'):\n",
    "    \"\"\"'path'에서 MNIST 데이터 불러오기\"\"\"\n",
    "    labels_path = os.path.join(path,\n",
    "                              f\"{kind}-labels.idx1-ubyte\")\n",
    "    images_path = os.path.join(path,\n",
    "                              f\"{kind}-images.idx3-ubyte\")\n",
    "    with open(labels_path, 'rb') as lbpath:\n",
    "        magic, n = struct.unpack('>II',\n",
    "                                lbpath.read(8))\n",
    "        labels = np.fromfile(lbpath,\n",
    "                            dtype=np.uint8)\n",
    "        \n",
    "    with open(images_path, 'rb') as imgpath:\n",
    "        magic, num, rows, cols = struct.unpack(\">IIII\",\n",
    "                                              imgpath.read(16))\n",
    "        images = np.fromfile(imgpath,\n",
    "                            dtype=np.uint8).reshape(\n",
    "                            len(labels), 784)\n",
    "        images = ((images / 255) - 5) * 2\n",
    "    \n",
    "    return images, labels"
   ]
  },
  {
   "cell_type": "code",
   "execution_count": 5,
   "metadata": {},
   "outputs": [
    {
     "name": "stdout",
     "output_type": "stream",
     "text": [
      "행: 60000, 열: 784\n",
      "행: 10000, 열: 784\n"
     ]
    }
   ],
   "source": [
    "X_train, y_train = load_mnist('', kind='train')\n",
    "print(f\"행: {X_train.shape[0]}, 열: {X_train.shape[1]}\")\n",
    "X_test, y_test = load_mnist('', kind='t10k')\n",
    "print(f\"행: {X_test.shape[0]}, 열: {X_test.shape[1]}\")"
   ]
  },
  {
   "cell_type": "code",
   "execution_count": 7,
   "metadata": {},
   "outputs": [
    {
     "data": {
      "image/png": "[encoded data removed]",
      "text/plain": [
       "<Figure size 432x288 with 10 Axes>"
      ]
     },
     "metadata": {},
     "output_type": "display_data"
    }
   ],
   "source": [
    "import matplotlib.pyplot as plt\n",
    "%matplotlib inline\n",
    "\n",
    "fig, ax = plt.subplots(nrows=2, ncols=5,\n",
    "                      sharex=True, sharey=True)\n",
    "ax = ax.flatten()\n",
    "for i in range(10):\n",
    "    img = X_train[y_train == i][0].reshape(28, 28)\n",
    "    ax[i].imshow(img, cmap='Greys')\n",
    "    \n",
    "ax[0].set_xticks([])\n",
    "ax[0].set_yticks([])\n",
    "plt.tight_layout()\n",
    "plt.show()"
   ]
  },
  {
   "cell_type": "code",
   "execution_count": 8,
   "metadata": {},
   "outputs": [
    {
     "data": {
      "image/png": "[encoded data removed]",
      "text/plain": [
       "<Figure size 432x288 with 25 Axes>"
      ]
     },
     "metadata": {},
     "output_type": "display_data"
    }
   ],
   "source": [
    "fig, ax = plt.subplots(nrows=5, ncols=5,\n",
    "                      sharex=True, sharey=True)\n",
    "ax = ax.flatten()\n",
    "for i in range(25):\n",
    "    img = X_train[y_train == 7][i].reshape(28, 28)\n",
    "    ax[i].imshow(img, cmap='Greys')\n",
    "\n",
    "ax[0].set_xticks([])\n",
    "ax[0].set_yticks([])\n",
    "plt.tight_layout()\n",
    "plt.show()"
   ]
  },
  {
   "cell_type": "code",
   "execution_count": 10,
   "metadata": {},
   "outputs": [],
   "source": [
    "np.savez_compressed('mnist_scaled.npz',\n",
    "                   X_train=X_train,\n",
    "                   y_train=y_train,\n",
    "                   X_test=X_test,\n",
    "                   y_test=y_test)"
   ]
  },
  {
   "cell_type": "code",
   "execution_count": 4,
   "metadata": {},
   "outputs": [],
   "source": [
    "mnist = np.load('mnist_scaled.npz')"
   ]
  },
  {
   "cell_type": "code",
   "execution_count": 5,
   "metadata": {},
   "outputs": [],
   "source": [
    "X_train, y_train, X_test, y_test = [mnist[f] for \n",
    "                                   f in mnist.files]"
   ]
  },
  {
   "cell_type": "code",
   "execution_count": 3,
   "metadata": {},
   "outputs": [],
   "source": [
    "import numpy as np\n",
    "import sys\n",
    "\n",
    "\n",
    "class NeuralNetMLP(object):\n",
    "    \"\"\"피드포워드 신경망 / 다층 퍼셉트론 분류기\n",
    "\n",
    "    매개변수\n",
    "\n",
    "    ------------\n",
    "    n_hidden : int (기본값: 30)\n",
    "        은닉 유닛 개수\n",
    "    l2 : float (기본값: 0.)\n",
    "        L2 규제의 람다 값\n",
    "        l2=0이면 규제 없음. (기본값)\n",
    "    epochs : int (기본값: 100)\n",
    "        훈련 세트를 반복할 횟수\n",
    "    eta : float (기본값: 0.001)\n",
    "        학습률\n",
    "    shuffle : bool (기본값: True)\n",
    "        에포크마다 훈련 세트를 섞을지 여부\n",
    "        True이면 데이터를 섞어 순서를 바꿉니다\n",
    "    minibatch_size : int (기본값: 1)\n",
    "        미니 배치의 훈련 샘플 개수\n",
    "    seed : int (기본값: None)\n",
    "        가중치와 데이터 셔플링을 위한 난수 초깃값\n",
    "\n",
    "    속성\n",
    "    -----------\n",
    "    eval_ : dict\n",
    "      훈련 에포크마다 비용, 훈련 정확도, 검증 정확도를 수집하기 위한 딕셔너리\n",
    "\n",
    "    \"\"\"\n",
    "    def __init__(self, n_hidden=30,\n",
    "                 l2=0., epochs=100, eta=0.001,\n",
    "                 shuffle=True, minibatch_size=1, seed=None):\n",
    "\n",
    "        self.random = np.random.RandomState(seed)\n",
    "        self.n_hidden = n_hidden\n",
    "        self.l2 = l2\n",
    "        self.epochs = epochs\n",
    "        self.eta = eta\n",
    "        self.shuffle = shuffle\n",
    "        self.minibatch_size = minibatch_size\n",
    "\n",
    "    def _onehot(self, y, n_classes):\n",
    "        \"\"\"레이블을 원-핫 방식으로 인코딩합니다\n",
    "\n",
    "        매개변수\n",
    "        ------------\n",
    "        y : 배열, 크기 = [n_samples]\n",
    "            타깃 값.\n",
    "\n",
    "        반환값\n",
    "        -----------\n",
    "        onehot : 배열, 크기 = (n_samples, n_labels)\n",
    "\n",
    "        \"\"\"\n",
    "        onehot = np.zeros((n_classes, y.shape[0]))\n",
    "        for idx, val in enumerate(y.astype(int)):\n",
    "            onehot[val, idx] = 1.\n",
    "        return onehot.T\n",
    "\n",
    "    def _sigmoid(self, z):\n",
    "        \"\"\"로지스틱 함수(시그모이드)를 계산합니다\"\"\"\n",
    "        return 1. / (1. + np.exp(-np.clip(z, -250, 250)))\n",
    "\n",
    "    def _forward(self, X):\n",
    "        \"\"\"정방향 계산을 수행합니다\"\"\"\n",
    "\n",
    "        # 단계 1: 은닉층의 최종 입력\n",
    "        # [n_samples, n_features] dot [n_features, n_hidden]\n",
    "        # -> [n_samples, n_hidden]\n",
    "        z_h = np.dot(X, self.w_h) + self.b_h\n",
    "\n",
    "        # 단계 2: 은닉층의 활성화 출력\n",
    "        a_h = self._sigmoid(z_h)\n",
    "\n",
    "        # 단계 3: 출력층의 최종 입력\n",
    "        # [n_samples, n_hidden] dot [n_hidden, n_classlabels]\n",
    "        # -> [n_samples, n_classlabels]\n",
    "\n",
    "        z_out = np.dot(a_h, self.w_out) + self.b_out\n",
    "\n",
    "        # 단계 4: 출력층의 활성화 출력\n",
    "        a_out = self._sigmoid(z_out)\n",
    "\n",
    "        return z_h, a_h, z_out, a_out\n",
    "\n",
    "    def _compute_cost(self, y_enc, output):\n",
    "        \"\"\"비용 함수를 계산합니다\n",
    "\n",
    "        매개변수\n",
    "        ----------\n",
    "        y_enc : 배열, 크기 = (n_samples, n_labels)\n",
    "            원-핫 인코딩된 클래스 레이블\n",
    "        output : 배열, 크기 = [n_samples, n_output_units]\n",
    "            출력층의 활성화 출력 (정방향 계산)\n",
    "\n",
    "        반환값\n",
    "        ---------\n",
    "        cost : float\n",
    "            규제가 포함된 비용\n",
    "\n",
    "        \"\"\"\n",
    "        L2_term = (self.l2 *\n",
    "                   (np.sum(self.w_h ** 2.) +\n",
    "                    np.sum(self.w_out ** 2.)))\n",
    "\n",
    "        term1 = -y_enc * (np.log(output))\n",
    "        term2 = (1. - y_enc) * np.log(1. - output)\n",
    "        cost = np.sum(term1 - term2) + L2_term\n",
    "        \n",
    "        # 다른 데이터셋에서는 극단적인 (0 또는 1에 가까운) 활성화 값이 나올 수 있습니다.\n",
    "        # 파이썬과 넘파이의 수치 연산이 불안정하기 때문에 \"ZeroDivisionError\"가 발생할 수 있습니다.\n",
    "        # 즉, log(0)을 평가하는 경우입니다.\n",
    "        # 이 문제를 해결하기 위해 로그 함수에 전달되는 활성화 값에 작은 상수를 더합니다.\n",
    "        #\n",
    "        # 예를 들어:\n",
    "        #\n",
    "        # term1 = -y_enc * (np.log(output + 1e-5))\n",
    "        # term2 = (1. - y_enc) * np.log(1. - output + 1e-5)\n",
    "        \n",
    "        return cost\n",
    "\n",
    "    def predict(self, X):\n",
    "        \"\"\"클래스 레이블을 예측합니다\n",
    "\n",
    "        매개변수\n",
    "        -----------\n",
    "        X : 배열, 크기 = [n_samples, n_features]\n",
    "            원본 특성의 입력층\n",
    "\n",
    "        반환값:\n",
    "        ----------\n",
    "        y_pred : 배열, 크기 = [n_samples]\n",
    "            예측된 클래스 레이블\n",
    "\n",
    "        \"\"\"\n",
    "        z_h, a_h, z_out, a_out = self._forward(X)\n",
    "        y_pred = np.argmax(z_out, axis=1)\n",
    "        return y_pred\n",
    "\n",
    "    def fit(self, X_train, y_train, X_valid, y_valid):\n",
    "        \"\"\"훈련 데이터에서 가중치를 학습합니다\n",
    "\n",
    "        매개변수\n",
    "        -----------\n",
    "        X_train : 배열, 크기 = [n_samples, n_features]\n",
    "            원본 특성의 입력층\n",
    "        y_train : 배열, 크기 = [n_samples]\n",
    "            타깃 클래스 레이블\n",
    "        X_valid : 배열, 크기 = [n_samples, n_features]\n",
    "            훈련하는 동안 검증에 사용할 샘플 특성\n",
    "        y_valid : 배열, 크기 = [n_samples]\n",
    "            훈련하는 동안 검증에 사용할 샘플 레이블\n",
    "\n",
    "        반환값:\n",
    "        ----------\n",
    "        self\n",
    "\n",
    "        \"\"\"\n",
    "        n_output = np.unique(y_train).shape[0]  # number of class labels\n",
    "        n_features = X_train.shape[1]\n",
    "\n",
    "        ########################\n",
    "        # 가중치 초기화\n",
    "        ########################\n",
    "\n",
    "        # 입력층 -> 은닉층 사이의 가중치\n",
    "        self.b_h = np.zeros(self.n_hidden)\n",
    "        self.w_h = self.random.normal(loc=0.0, scale=0.1,\n",
    "                                      size=(n_features, self.n_hidden))\n",
    "\n",
    "        # 은닉층 -> 출력층 사이의 가중치\n",
    "        self.b_out = np.zeros(n_output)\n",
    "        self.w_out = self.random.normal(loc=0.0, scale=0.1,\n",
    "                                        size=(self.n_hidden, n_output))\n",
    "\n",
    "        epoch_strlen = len(str(self.epochs))  # 출력 포맷을 위해\n",
    "        self.eval_ = {'cost': [], 'train_acc': [], 'valid_acc': []}\n",
    "\n",
    "        y_train_enc = self._onehot(y_train, n_output)\n",
    "\n",
    "        # 훈련 에포크를 반복합니다\n",
    "        for i in range(self.epochs):\n",
    "\n",
    "            # 미니 배치로 반복합니다\n",
    "            indices = np.arange(X_train.shape[0])\n",
    "\n",
    "            if self.shuffle:\n",
    "                self.random.shuffle(indices)\n",
    "\n",
    "            for start_idx in range(0, indices.shape[0] - self.minibatch_size +\n",
    "                                   1, self.minibatch_size):\n",
    "                batch_idx = indices[start_idx:start_idx + self.minibatch_size]\n",
    "\n",
    "                # 정방향 계산\n",
    "                z_h, a_h, z_out, a_out = self._forward(X_train[batch_idx])\n",
    "\n",
    "                ##################\n",
    "                # 역전파\n",
    "                ##################\n",
    "\n",
    "                # [n_samples, n_classlabels]\n",
    "                sigma_out = a_out - y_train_enc[batch_idx]\n",
    "\n",
    "                # [n_samples, n_hidden]\n",
    "                sigmoid_derivative_h = a_h * (1. - a_h)\n",
    "\n",
    "                # [n_samples, n_classlabels] dot [n_classlabels, n_hidden]\n",
    "                # -> [n_samples, n_hidden]\n",
    "                sigma_h = (np.dot(sigma_out, self.w_out.T) *\n",
    "                           sigmoid_derivative_h)\n",
    "\n",
    "                # [n_features, n_samples] dot [n_samples, n_hidden]\n",
    "                # -> [n_features, n_hidden]\n",
    "                grad_w_h = np.dot(X_train[batch_idx].T, sigma_h)\n",
    "                grad_b_h = np.sum(sigma_h, axis=0)\n",
    "\n",
    "                # [n_hidden, n_samples] dot [n_samples, n_classlabels]\n",
    "                # -> [n_hidden, n_classlabels]\n",
    "                grad_w_out = np.dot(a_h.T, sigma_out)\n",
    "                grad_b_out = np.sum(sigma_out, axis=0)\n",
    "\n",
    "                # 규제와 가중치 업데이트\n",
    "                delta_w_h = (grad_w_h + self.l2*self.w_h)\n",
    "                delta_b_h = grad_b_h # 편향은 규제하지 않습니다\n",
    "                self.w_h -= self.eta * delta_w_h\n",
    "                self.b_h -= self.eta * delta_b_h\n",
    "\n",
    "                delta_w_out = (grad_w_out + self.l2*self.w_out)\n",
    "                delta_b_out = grad_b_out  # 편향은 규제하지 않습니다\n",
    "                self.w_out -= self.eta * delta_w_out\n",
    "                self.b_out -= self.eta * delta_b_out\n",
    "\n",
    "            #############\n",
    "            # 평가\n",
    "            #############\n",
    "\n",
    "            # 훈련하는 동안 에포크마다 평가합니다\n",
    "            z_h, a_h, z_out, a_out = self._forward(X_train)\n",
    "            \n",
    "            cost = self._compute_cost(y_enc=y_train_enc,\n",
    "                                      output=a_out)\n",
    "\n",
    "            y_train_pred = self.predict(X_train)\n",
    "            y_valid_pred = self.predict(X_valid)\n",
    "\n",
    "            train_acc = ((np.sum(y_train == y_train_pred)).astype(np.float) /\n",
    "                         X_train.shape[0])\n",
    "            valid_acc = ((np.sum(y_valid == y_valid_pred)).astype(np.float) /\n",
    "                         X_valid.shape[0])\n",
    "\n",
    "            sys.stderr.write('\\r%0*d/%d | 비용: %.2f '\n",
    "                             '| 훈련/검증 정확도: %.2f%%/%.2f%% ' %\n",
    "                             (epoch_strlen, i+1, self.epochs, cost,\n",
    "                              train_acc*100, valid_acc*100))\n",
    "            sys.stderr.flush()\n",
    "\n",
    "            self.eval_['cost'].append(cost)\n",
    "            self.eval_['train_acc'].append(train_acc)\n",
    "            self.eval_['valid_acc'].append(valid_acc)\n",
    "\n",
    "        return self"
   ]
  },
  {
   "cell_type": "code",
   "execution_count": 6,
   "metadata": {},
   "outputs": [],
   "source": [
    "nn = NeuralNetMLP(n_hidden=100,\n",
    "                 l2=0.01,\n",
    "                 epochs=200,\n",
    "                 eta=0.0005,\n",
    "                 minibatch_size=100,\n",
    "                 shuffle=True,\n",
    "                 seed=1)"
   ]
  },
  {
   "cell_type": "code",
   "execution_count": null,
   "metadata": {},
   "outputs": [
    {
     "name": "stderr",
     "output_type": "stream",
     "text": [
      "060/200 | 비용: 9348.29 | 훈련/검증 정확도: 98.14%/97.30%  "
     ]
    }
   ],
   "source": [
    "nn.fit(X_train=X_train_centered[:55000],\n",
    "      y_train=y_train[:55000],\n",
    "      X_valid=X_train_centered[55000:],\n",
    "      y_valid=y_train[55000:])"
   ]
  },
  {
   "cell_type": "markdown",
   "metadata": {},
   "source": [
    "# 텐서플로를 사용하여 신경망 훈련\n",
    "\n",
    "## 고성능 머신 러닝 라이브러리 텐서플로"
   ]
  },
  {
   "cell_type": "code",
   "execution_count": 2,
   "metadata": {},
   "outputs": [
    {
     "name": "stdout",
     "output_type": "stream",
     "text": [
      "입력 크기:  (3, 2, 3)\n",
      "크기가 변경된 입력:\n",
      " [[ 0  1  2  3  4  5]\n",
      " [ 6  7  8  9 10 11]\n",
      " [12 13 14 15 16 17]]\n",
      "열의 합:\n",
      " [18 21 24 27 30 33]\n",
      "열의 평균:\n",
      "  [ 6  7  8  9 10 11]\n"
     ]
    }
   ],
   "source": [
    "import tensorflow as tf\n",
    "import numpy as np\n",
    "\n",
    "x_array = np.arange(18).reshape(3, 2, 3)\n",
    "\n",
    "x2 = tf.reshape(x_array, shape=(-1, 6))\n",
    "\n",
    "## 각 열의 합\n",
    "xsum = tf.reduce_sum(x2, axis=0)\n",
    "\n",
    "## 각 열의 평균\n",
    "xmean = tf.reduce_mean(x2, axis=0)\n",
    "\n",
    "print('입력 크기: ', x_array.shape)\n",
    "print('크기가 변경된 입력:\\n', x2.numpy())\n",
    "print('열의 합:\\n', xsum.numpy())\n",
    "print('열의 평균:\\n ', xmean.numpy())"
   ]
  },
  {
   "cell_type": "code",
   "execution_count": 4,
   "metadata": {},
   "outputs": [
    {
     "name": "stdout",
     "output_type": "stream",
     "text": [
      "[0.]\n"
     ]
    }
   ],
   "source": [
    "print(tf.zeros(shape=1).numpy())"
   ]
  },
  {
   "cell_type": "code",
   "execution_count": 12,
   "metadata": {},
   "outputs": [
    {
     "data": {
      "text/plain": [
       "array([1, 2, 3])"
      ]
     },
     "execution_count": 12,
     "metadata": {},
     "output_type": "execute_result"
    }
   ],
   "source": [
    "tf.reshape([1, 2, 3], [-1]).numpy()"
   ]
  },
  {
   "cell_type": "markdown",
   "metadata": {},
   "source": [
    "[context manager알아보기](https://ddanggle.gitbooks.io/interpy-kr/content/ch24-context-manager.html)"
   ]
  },
  {
   "cell_type": "code",
   "execution_count": 14,
   "metadata": {},
   "outputs": [],
   "source": [
    "class TfLinreg(object):\n",
    "    \n",
    "    def __init__(self, learning_rate=0.01):\n",
    "        ## 가중치와 절편을 정의합니다\n",
    "        self.w = tf.Variable(tf.zeros(shape=(1)))\n",
    "        self.b = tf.Variable(tf.zeros(shape=(1)))\n",
    "        ## 경사 하강법 옵티마이저를 설정합니다\n",
    "        self.optimizer = tf.keras.optimizers.SGD(lr=learning_rate)\n",
    "        \n",
    "    def fit(self, X, y, num_epochs=10):\n",
    "        training_cost = []\n",
    "        for step in range(num_epochs):\n",
    "        ## 자동 미분을 위해 연산 과정을 기록합니다\n",
    "            with tf.GradientTape() as tape:\n",
    "                z_net = self.w * X + self.b\n",
    "                z_net = tf.reshape(z_net, [-1])\n",
    "                sqr_errors = tf.square(y - z_net)\n",
    "                mean_cost = tf.reduce_mean(sqr_errors)\n",
    "            ## 비용 함수에 대한 가중치의 그래디언트를 계산합니다\n",
    "            grads = tape.gradient(mean_cost, [self.w, self.b])\n",
    "            ## 옵티마이저에 그래디언트를 반영합니다\n",
    "            self.optimizer.apply_gradients(zip(grads, [self.w, self.b]))\n",
    "            ## 비용 함수의 값을 저장합니다\n",
    "            training_costs.append(mean_cost.numpy())\n",
    "        return training_costs\n",
    "    \n",
    "    def predict(self, X):\n",
    "        return self.w * X + self.b"
   ]
  },
  {
   "cell_type": "markdown",
   "metadata": {},
   "source": [
    "## tf.keras API로 다층 신경망 훈련"
   ]
  },
  {
   "cell_type": "code",
   "execution_count": 4,
   "metadata": {},
   "outputs": [],
   "source": [
    "import numpy as np\n",
    "import tensorflow as tf\n",
    "\n",
    "mnist = np.load('mnist_scaled.npz')\n",
    "X_train, y_train, X_test, y_test = [mnist[f] for f in mnist.files]"
   ]
  },
  {
   "cell_type": "code",
   "execution_count": 5,
   "metadata": {},
   "outputs": [
    {
     "name": "stdout",
     "output_type": "stream",
     "text": [
      "(60000, 784) (60000,)\n",
      "[[0. 0. 0. ... 0. 0. 0.]\n",
      " [0. 0. 0. ... 0. 0. 0.]\n",
      " [0. 0. 0. ... 0. 0. 0.]\n",
      " ...\n",
      " [0. 0. 0. ... 0. 0. 0.]\n",
      " [0. 0. 0. ... 0. 0. 0.]\n",
      " [0. 0. 0. ... 0. 0. 0.]] (10000,)\n"
     ]
    }
   ],
   "source": [
    "mean_vals = np.mean(X_train, axis=0)\n",
    "std_val = np.std(X_train)\n",
    "\n",
    "X_train_centered = (X_train - mean_vals) / std_val\n",
    "X_test_centered = (X_test - mean_vals) / std_val\n",
    "\n",
    "del X_train, X_test\n",
    "\n",
    "print(X_train_centered.shape, y_train.shape)\n",
    "print(X_test_centered, y_test.shape)"
   ]
  },
  {
   "cell_type": "code",
   "execution_count": 7,
   "metadata": {},
   "outputs": [],
   "source": [
    "np.random.seed(123)\n",
    "\n",
    "y_train_onehot = tf.keras.utils.to_categorical(y_train)"
   ]
  },
  {
   "cell_type": "code",
   "execution_count": 9,
   "metadata": {},
   "outputs": [],
   "source": [
    "model = tf.keras.models.Sequential()\n",
    "\n",
    "model.add(\n",
    "    tf.keras.layers.Dense(\n",
    "        units=50,\n",
    "        input_dim=X_train_centered.shape[1],\n",
    "        kernel_initializer='glorot_uniform',\n",
    "        bias_initializer='zeros',\n",
    "        activation='tanh'))\n",
    "\n",
    "model.add(\n",
    "    tf.keras.layers.Dense(\n",
    "        units=50,\n",
    "        input_dim=50,\n",
    "        kernel_initializer='glorot_uniform',\n",
    "        bias_initializer='zeros',\n",
    "        activation='tanh'))\n",
    "\n",
    "model.add(\n",
    "    tf.keras.layers.Dense(\n",
    "        units=y_train_onehot.shape[1],\n",
    "        input_dim=50,\n",
    "        kernel_initializer='glorot_uniform',\n",
    "        bias_initializer='zeros',\n",
    "        activation='softmax'))"
   ]
  },
  {
   "cell_type": "code",
   "execution_count": 10,
   "metadata": {},
   "outputs": [
    {
     "name": "stdout",
     "output_type": "stream",
     "text": [
      "Model: \"sequential_1\"\n",
      "_________________________________________________________________\n",
      "Layer (type)                 Output Shape              Param #   \n",
      "=================================================================\n",
      "dense_2 (Dense)              (None, 50)                39250     \n",
      "_________________________________________________________________\n",
      "dense_3 (Dense)              (None, 50)                2550      \n",
      "_________________________________________________________________\n",
      "dense_4 (Dense)              (None, 10)                510       \n",
      "=================================================================\n",
      "Total params: 42,310\n",
      "Trainable params: 42,310\n",
      "Non-trainable params: 0\n",
      "_________________________________________________________________\n"
     ]
    }
   ],
   "source": [
    "model.summary()"
   ]
  },
  {
   "cell_type": "code",
   "execution_count": 12,
   "metadata": {},
   "outputs": [],
   "source": [
    "sgd_optimizer = tf.keras.optimizers.SGD(\n",
    "    lr=0.001, decay=1e-7, momentum=.9)\n",
    "\n",
    "model.compile(optimizer=sgd_optimizer,\n",
    "             loss='categorical_crossentropy')"
   ]
  },
  {
   "cell_type": "code",
   "execution_count": 13,
   "metadata": {},
   "outputs": [
    {
     "name": "stdout",
     "output_type": "stream",
     "text": [
      "Train on 54000 samples, validate on 6000 samples\n",
      "Epoch 1/50\n",
      "54000/54000 [==============================] - 3s 56us/sample - loss: 0.7409 - val_loss: 0.3696\n",
      "Epoch 2/50\n",
      "54000/54000 [==============================] - 2s 35us/sample - loss: 0.3756 - val_loss: 0.2788\n",
      "Epoch 3/50\n",
      "54000/54000 [==============================] - 2s 37us/sample - loss: 0.3065 - val_loss: 0.2417\n",
      "Epoch 4/50\n",
      "54000/54000 [==============================] - 2s 36us/sample - loss: 0.2687 - val_loss: 0.2175\n",
      "Epoch 5/50\n",
      "54000/54000 [==============================] - 2s 35us/sample - loss: 0.2429 - val_loss: 0.2001\n",
      "Epoch 6/50\n",
      "54000/54000 [==============================] - 2s 36us/sample - loss: 0.2231 - val_loss: 0.1870\n",
      "Epoch 7/50\n",
      "54000/54000 [==============================] - 2s 35us/sample - loss: 0.2070 - val_loss: 0.1770\n",
      "Epoch 8/50\n",
      "54000/54000 [==============================] - 2s 35us/sample - loss: 0.1935 - val_loss: 0.1673\n",
      "Epoch 9/50\n",
      "54000/54000 [==============================] - 2s 35us/sample - loss: 0.1817 - val_loss: 0.1611\n",
      "Epoch 10/50\n",
      "54000/54000 [==============================] - 2s 36us/sample - loss: 0.1715 - val_loss: 0.1546\n",
      "Epoch 11/50\n",
      "54000/54000 [==============================] - 2s 36us/sample - loss: 0.1623 - val_loss: 0.1489\n",
      "Epoch 12/50\n",
      "54000/54000 [==============================] - 2s 38us/sample - loss: 0.1540 - val_loss: 0.1447\n",
      "Epoch 13/50\n",
      "54000/54000 [==============================] - 2s 36us/sample - loss: 0.1469 - val_loss: 0.1399\n",
      "Epoch 14/50\n",
      "54000/54000 [==============================] - 2s 36us/sample - loss: 0.1402 - val_loss: 0.1364\n",
      "Epoch 15/50\n",
      "54000/54000 [==============================] - 2s 35us/sample - loss: 0.1341 - val_loss: 0.1341\n",
      "Epoch 16/50\n",
      "54000/54000 [==============================] - 2s 36us/sample - loss: 0.1286 - val_loss: 0.1306\n",
      "Epoch 17/50\n",
      "54000/54000 [==============================] - 2s 37us/sample - loss: 0.1234 - val_loss: 0.1279\n",
      "Epoch 18/50\n",
      "54000/54000 [==============================] - 2s 38us/sample - loss: 0.1187 - val_loss: 0.1261\n",
      "Epoch 19/50\n",
      "54000/54000 [==============================] - 2s 37us/sample - loss: 0.1141 - val_loss: 0.1237\n",
      "Epoch 20/50\n",
      "54000/54000 [==============================] - 2s 39us/sample - loss: 0.1100 - val_loss: 0.1218\n",
      "Epoch 21/50\n",
      "54000/54000 [==============================] - 2s 36us/sample - loss: 0.1060 - val_loss: 0.1206\n",
      "Epoch 22/50\n",
      "54000/54000 [==============================] - 2s 36us/sample - loss: 0.1023 - val_loss: 0.1192\n",
      "Epoch 23/50\n",
      "54000/54000 [==============================] - 2s 36us/sample - loss: 0.0988 - val_loss: 0.1177\n",
      "Epoch 24/50\n",
      "54000/54000 [==============================] - 2s 36us/sample - loss: 0.0953 - val_loss: 0.1169\n",
      "Epoch 25/50\n",
      "54000/54000 [==============================] - 2s 36us/sample - loss: 0.0922 - val_loss: 0.1162\n",
      "Epoch 26/50\n",
      "54000/54000 [==============================] - 2s 36us/sample - loss: 0.0891 - val_loss: 0.1157\n",
      "Epoch 27/50\n",
      "54000/54000 [==============================] - 2s 36us/sample - loss: 0.0862 - val_loss: 0.1134\n",
      "Epoch 28/50\n",
      "54000/54000 [==============================] - 2s 39us/sample - loss: 0.0835 - val_loss: 0.1141\n",
      "Epoch 29/50\n",
      "54000/54000 [==============================] - 2s 37us/sample - loss: 0.0807 - val_loss: 0.1132\n",
      "Epoch 30/50\n",
      "54000/54000 [==============================] - 2s 37us/sample - loss: 0.0783 - val_loss: 0.1136\n",
      "Epoch 31/50\n",
      "54000/54000 [==============================] - 2s 36us/sample - loss: 0.0758 - val_loss: 0.1131\n",
      "Epoch 32/50\n",
      "54000/54000 [==============================] - 2s 37us/sample - loss: 0.0733 - val_loss: 0.1120\n",
      "Epoch 33/50\n",
      "54000/54000 [==============================] - 2s 37us/sample - loss: 0.0711 - val_loss: 0.1116\n",
      "Epoch 34/50\n",
      "54000/54000 [==============================] - 2s 37us/sample - loss: 0.0690 - val_loss: 0.1122\n",
      "Epoch 35/50\n",
      "54000/54000 [==============================] - 2s 37us/sample - loss: 0.0668 - val_loss: 0.1126\n",
      "Epoch 36/50\n",
      "54000/54000 [==============================] - 2s 40us/sample - loss: 0.0649 - val_loss: 0.1122\n",
      "Epoch 37/50\n",
      "54000/54000 [==============================] - 2s 37us/sample - loss: 0.0629 - val_loss: 0.1117\n",
      "Epoch 38/50\n",
      "54000/54000 [==============================] - 2s 39us/sample - loss: 0.0610 - val_loss: 0.1114\n",
      "Epoch 39/50\n",
      "54000/54000 [==============================] - 2s 37us/sample - loss: 0.0593 - val_loss: 0.1115\n",
      "Epoch 40/50\n",
      "54000/54000 [==============================] - 2s 37us/sample - loss: 0.0575 - val_loss: 0.1119\n",
      "Epoch 41/50\n",
      "54000/54000 [==============================] - 2s 37us/sample - loss: 0.0558 - val_loss: 0.1118\n",
      "Epoch 42/50\n",
      "54000/54000 [==============================] - 2s 37us/sample - loss: 0.0542 - val_loss: 0.1120\n",
      "Epoch 43/50\n",
      "54000/54000 [==============================] - 2s 38us/sample - loss: 0.0526 - val_loss: 0.1113\n",
      "Epoch 44/50\n",
      "54000/54000 [==============================] - 2s 38us/sample - loss: 0.0511 - val_loss: 0.1121\n",
      "Epoch 45/50\n",
      "54000/54000 [==============================] - 2s 37us/sample - loss: 0.0496 - val_loss: 0.1119\n",
      "Epoch 46/50\n",
      "54000/54000 [==============================] - 2s 43us/sample - loss: 0.0483 - val_loss: 0.1123\n",
      "Epoch 47/50\n",
      "54000/54000 [==============================] - 2s 41us/sample - loss: 0.0470 - val_loss: 0.1127\n",
      "Epoch 48/50\n",
      "54000/54000 [==============================] - 2s 37us/sample - loss: 0.0456 - val_loss: 0.1128\n",
      "Epoch 49/50\n",
      "54000/54000 [==============================] - 2s 37us/sample - loss: 0.0444 - val_loss: 0.1128\n",
      "Epoch 50/50\n",
      "54000/54000 [==============================] - 2s 37us/sample - loss: 0.0431 - val_loss: 0.1133\n"
     ]
    }
   ],
   "source": [
    "history = model.fit(X_train_centered, y_train_onehot,\n",
    "                   batch_size=64, epochs=50,\n",
    "                   verbose=1,\n",
    "                   validation_split=0.1)"
   ]
  },
  {
   "cell_type": "code",
   "execution_count": 14,
   "metadata": {},
   "outputs": [
    {
     "name": "stdout",
     "output_type": "stream",
     "text": [
      "[5 0 4]\n"
     ]
    }
   ],
   "source": [
    "y_train_pred = model.predict_classes(X_train_centered, verbose=0)\n",
    "print(y_train_pred[:3])"
   ]
  },
  {
   "cell_type": "code",
   "execution_count": 15,
   "metadata": {},
   "outputs": [
    {
     "name": "stdout",
     "output_type": "stream",
     "text": [
      "훈련 정확도: 99.00\n",
      "테스트 정확도: 95.97\n"
     ]
    }
   ],
   "source": [
    "y_train_pred = model.predict_classes(X_train_centered, verbose=0)\n",
    "correct_preds = np.sum(y_train == y_train_pred, axis=0)\n",
    "train_acc = correct_preds / y_train.shape[0]\n",
    "print(f\"훈련 정확도: {train_acc*100:.2f}\")\n",
    "y_test_pred = model.predict_classes(X_test_centered,\n",
    "                                   verbose=0)\n",
    "correct_preds = np.sum(y_test == y_test_pred, axis=0)\n",
    "test_acc = correct_preds / y_test.shape[0]\n",
    "print(f\"테스트 정확도: {test_acc*100:.2f}\")"
   ]
  },
  {
   "cell_type": "code",
   "execution_count": null,
   "metadata": {},
   "outputs": [],
   "source": []
  }
 ],
 "metadata": {
  "kernelspec": {
   "display_name": "Python 3",
   "language": "python",
   "name": "python3"
  }
 },
 "nbformat": 4,
 "nbformat_minor": 2
}
